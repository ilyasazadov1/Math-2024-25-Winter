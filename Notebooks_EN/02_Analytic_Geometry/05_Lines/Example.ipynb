{
  "nbformat": 4,
  "nbformat_minor": 0,
  "metadata": {
    "colab": {
      "provenance": []
    },
    "kernelspec": {
      "name": "python3",
      "display_name": "Python 3"
    },
    "language_info": {
      "name": "python"
    }
  },
  "cells": [
    {
      "cell_type": "markdown",
      "source": [
        "# Line or whatever subject\n",
        "\n",
        "Write notes on your own! In each geometry folder make a separate file. Use ChatGPT to generate notes based on list of topics:\n",
        "\n",
        "\tAnalytical Geometry\n",
        "\n",
        "\tLines\n",
        "\tTypes of line equations in the plane.\n",
        "\tGeneral equation of a line.\n",
        "\tCanonical equation of a line.\n",
        "\tLine equation in intercept form on the coordinate axes.\n",
        "\tLine equation in slope form.\n",
        "\tLine equation passing through a given point in a given direction.\n",
        "\tLine equation passing through two given points.\n",
        "\tRelative positions of lines in the plane.\n",
        "\tIntersection of two lines.\n",
        "\tAngle between two lines.\n",
        "\tConditions for parallelism and perpendicularity of two lines.\n",
        "\n",
        "\tPlanes\n",
        "\tPlanes in space.\n",
        "\tVector equation of a plane.\n",
        "\tGeneral equation of a plane.\n",
        "\tPlane equation passing through three points.\n",
        "\tPlane equation in intercept form on the coordinate axes.\n",
        "\tSpecial cases of plane positioning.\n",
        "\tAngle between two planes.\n",
        "\tConditions for parallelism and perpendicularity of two planes.\n",
        "\tLine in space.\n",
        "\tTypes of line equations in space.\n",
        "\tRelative positions of a line and a plane.\n",
        "\tRelative positions of two lines.\n",
        "\tAngle between a line and a plane.\n",
        "\n",
        "\tSecond-Order Curves\n",
        "\tCanonical equations of the circle, ellipse, hyperbola, and parabola.\n",
        "\tEquations of second-order curves with a shifted center.\n",
        "\tReduction of the general second-order curve equation to canonical form.\n",
        "\n",
        "\tSecond-Order Surfaces\n",
        "\tGeneral equations of the ellipsoid, sphere, and hyperboloid.\n",
        "\tRotational surfaces.\n"
      ],
      "metadata": {
        "id": "SVa9rLOXgzJe"
      }
    },
    {
      "cell_type": "markdown",
      "source": [
        "## Magic formula for ChatGPT\n",
        "\n",
        "**Ask ChatpGPT from OpenAI, Cloude, Full Gemini (don't use Gemini here because it is too small model to handle it):**\n",
        "\n",
        "\n",
        "\n",
        "> Please generate me markdown code academic notes, with plenty of equations (harvard student notes!) for the given list of topics below. As I need it for colab and github make sure you give all equations and math formula using $...$ and $$...$$.\n",
        "\n",
        "List of topics to cover:\n",
        "\n",
        "Types of line equations in the plane.\n",
        "General equation of a line.\n",
        "Canonical equation of a line.\n",
        "Line equation in intercept form on the coordinate axes.\n",
        "Line equation in slope form.\n",
        "Line equation passing through a given point in a given direction.\n",
        "Line equation passing through two given points.\n",
        "Relative positions of lines in the plane.\n",
        "Intersection of two lines.\n",
        "Angle between two lines.\n",
        "Conditions for parallelism and perpendicularity of two lines.\n",
        "\n",
        "\n",
        "\n"
      ],
      "metadata": {
        "id": "5SDlikNRhas0"
      }
    },
    {
      "cell_type": "markdown",
      "source": [],
      "metadata": {
        "id": "YBha9MC0howb"
      }
    },
    {
      "cell_type": "code",
      "execution_count": null,
      "metadata": {
        "colab": {
          "base_uri": "https://localhost:8080/"
        },
        "id": "-IWVfobGgyjY",
        "outputId": "efec93f1-b0ca-47ae-c69b-df9b6f27e33d"
      },
      "outputs": [
        {
          "output_type": "execute_result",
          "data": {
            "text/plain": [
              "5"
            ]
          },
          "metadata": {},
          "execution_count": 1
        }
      ],
      "source": [
        "2+3\n"
      ]
    },
    {
      "cell_type": "markdown",
      "source": [
        "# Exercies copied from github markdowns!\n",
        "\n",
        "(that are no openable in colab!) We like everything in one place, so visit your github directly in browser and just enter edit and copy markdown code."
      ],
      "metadata": {
        "id": "6-kVkPFog8NZ"
      }
    },
    {
      "cell_type": "markdown",
      "source": [
        "# Solutions\n",
        "\n",
        "Text...\n",
        "\n",
        "\n",
        "The line passes through points\n",
        "A\n",
        "(\n",
        "1\n",
        ",\n",
        "2\n",
        ")\n",
        " and\n",
        "B\n",
        "(\n",
        "3\n",
        ",\n",
        "4\n",
        ")\n",
        ". Find the equation of the line.\n",
        "\n",
        "\n",
        "$m = \\frac{y_2 - y_1}{x_2 - x_1} = \\frac{4 - 2}{3 - 1} = \\frac{2}{2} = 1$\n",
        "\n",
        "\n",
        "$y - y_1 = m(x - x_1)$\n",
        "\n",
        "$y - 2 = 1(x - 1)$\n",
        "\n",
        "$y - 2 = x - 1$\n",
        "\n",
        "$y = x + 1$"
      ],
      "metadata": {
        "id": "3wgcdwT5hFQH"
      }
    },
    {
      "cell_type": "markdown",
      "source": [
        "The line passes through point\n",
        "A\n",
        "(\n",
        "1\n",
        ",\n",
        "2\n",
        ")\n",
        " and is parallel to the line\n",
        "y\n",
        "=\n",
        "2\n",
        "x\n",
        "+\n",
        "3\n",
        ". Find the equation of the line.\n",
        "\n",
        "\n",
        "\n",
        "\n",
        "The given line is $y = 2x + 3$.\n",
        "The slope of the given line is $m = 2$.\n",
        "Therefore, the slope of the desired line is also $m = 2$.\n",
        "\n",
        "\n",
        "$y - y_1 = m(x - x_1)$\n",
        "\n",
        "$y - 2 = 2(x - 1)$\n",
        "\n",
        "\n",
        "\n",
        "\n",
        "Simplifying the equation\n",
        "\n",
        "$y - 2 = 2x - 2$\n",
        "\n",
        "$y = 2x$\n",
        "\n",
        "both these lines are pararrel which means that they will be at the same value"
      ],
      "metadata": {
        "id": "YOOpAwgi21l7"
      }
    },
    {
      "cell_type": "markdown",
      "source": [
        "\n",
        "The slope of the given line is $m_1 = 2$.\n",
        "Therefore, the slope of the desired line is $m_2 = -\\frac{1}{m_1} = -\\frac{1}{2}$.\n",
        "\n",
        "Using the point-slope form with point A(1, 2) and the slope $m_2 = -\\frac{1}{2}$:\n",
        "\n",
        "$y - y_1 = m_2(x - x_1)$\n",
        "\n",
        "$y - 2 = -\\frac{1}{2}(x - 1)$\n",
        "\n",
        "Simplifying the equation:\n",
        "\n",
        "$y - 2 = -\\frac{1}{2}x + \\frac{1}{2}$\n",
        "\n",
        "$y = -\\frac{1}{2}x + \\frac{5}{2}$\n",
        "\n",
        "Therefore, the equation of the line is $y = -\\frac{1}{2}x + \\frac{5}{2}$."
      ],
      "metadata": {
        "id": "rFT_cRwd3sX3"
      }
    },
    {
      "cell_type": "markdown",
      "source": [
        "Write the equation of the line passing through point\n",
        "A\n",
        "(\n",
        "1\n",
        ",\n",
        "2\n",
        ")\n",
        " and parallel to the vector\n",
        "v\n",
        "→\n",
        "=\n",
        "[\n",
        "2\n",
        ",\n",
        "3\n",
        "]\n",
        ".\n",
        "\n",
        "The vector $\\vec{v} = \\begin{bmatrix} 2 \\\\ 3 \\end{bmatrix}$$\\vec{v} = \\begin{bmatrix} 2 \\\\ 3 \\end{bmatrix}$ is the direction vector of the line.\n",
        "\n",
        "\n",
        "\n",
        "$t = \\frac{x - 1}{2}$\n",
        "\n",
        "$y = 2 + 3 \\left( \\frac{x - 1}{2} \\right)$\n",
        "\n",
        "$y = \\frac{3}{2}x + \\frac{1}{2}$\n",
        "\n",
        "\n",
        "\n",
        "The equation of the line passing through point A(1, 2) and parallel to the vector $\\vec{v} = \\begin{bmatrix} 2 \\\\ 3 \\end{bmatrix}$ is:\n",
        "\n",
        "\n",
        "$y = \\frac{3}{2}x + \\frac{1}{2}$\n"
      ],
      "metadata": {
        "id": "VelHhBpL5q2N"
      }
    },
    {
      "cell_type": "markdown",
      "source": [
        "We have the line y = 2 x + 3 . Find an example of a line perpendicular and parallel to it.\n",
        "\n",
        "\n",
        "\n",
        "y = 2x + 3\n",
        "\n",
        "y = 2x + 5\n",
        "\n",
        "$y = -\\frac{1}{2}x + 1$"
      ],
      "metadata": {
        "id": "xZ48UGae7PWV"
      }
    },
    {
      "cell_type": "markdown",
      "source": [
        "We have the line\n",
        "y\n",
        "=\n",
        "2\n",
        "x\n",
        "+\n",
        "3\n",
        " and point\n",
        "A\n",
        "(\n",
        "1\n",
        ",\n",
        "2\n",
        ")\n",
        ". Find the distance from point\n",
        "A\n",
        " to the line.\n",
        "\n",
        "\n",
        "\n",
        "\n",
        "$y = 2x + 3 \\$\n",
        "\n",
        "$2x - y + 3 = 0$\n",
        "\n",
        "   $d = \\frac{|2(1) + (-1)(2) + 3|}{\\sqrt{2^2 + (-1)^2}} \\$\n",
        "  \n",
        "  $d = \\frac{|2 - 2 + 3|}{\\sqrt{4 + 1}} $\n",
        "  \n",
        "   $d = \\frac{3}{\\sqrt{5}}$\n",
        "\n",
        "  \n"
      ],
      "metadata": {
        "id": "JFWB5Zj6rUAv"
      }
    },
    {
      "cell_type": "markdown",
      "source": [
        "The line intersects the coordinate axes at points\n",
        "A\n",
        "(\n",
        "2\n",
        ",\n",
        "0\n",
        ")\n",
        " and\n",
        "B\n",
        "(\n",
        "0\n",
        ",\n",
        "3\n",
        ")\n",
        ". Find the equation of the line.\n",
        "\n",
        "\n",
        "\n",
        "$\\frac{x}{2} + \\frac{y}{3} = 1$\n",
        "\n",
        "$y = -\\frac{3}{2}x + 3$"
      ],
      "metadata": {
        "id": "7duf-LhHsb6N"
      }
    },
    {
      "cell_type": "markdown",
      "source": [
        "Calculate the angle between the line y = x + 3 and the O x axis\n",
        "\n",
        "$m = 1$\n",
        "\n",
        "\n",
        "$\\theta = \\arctan(1)$\n",
        "\n",
        "\n",
        "$\\theta = 45^{\\circ} \\$\n",
        "\n"
      ],
      "metadata": {
        "id": "8br4gC2ptyTy"
      }
    },
    {
      "cell_type": "code",
      "source": [],
      "metadata": {
        "id": "LqItIWt0g7mb"
      },
      "execution_count": null,
      "outputs": []
    },
    {
      "cell_type": "markdown",
      "source": [
        "Provide a vector perpendicular to the line\n",
        "x\n",
        "+\n",
        "y\n",
        "+\n",
        "1\n",
        "=\n",
        "0\n",
        ".\n",
        "\n",
        "\n",
        "$\\vec{v} = \\begin{pmatrix} 1 \\\\ 1 \\end{pmatrix}$"
      ],
      "metadata": {
        "id": "IiNKVCZEuqW8"
      }
    },
    {
      "cell_type": "markdown",
      "source": [],
      "metadata": {
        "id": "lz3TcFBVwQwV"
      }
    }
  ]
}