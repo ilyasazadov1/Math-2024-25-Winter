{
  "nbformat": 4,
  "nbformat_minor": 0,
  "metadata": {
    "colab": {
      "provenance": []
    },
    "kernelspec": {
      "name": "python3",
      "display_name": "Python 3"
    },
    "language_info": {
      "name": "python"
    }
  },
  "cells": [
    {
      "cell_type": "markdown",
      "source": [
        "# Solutions\n",
        "\n",
        "Text..."
      ],
      "metadata": {
        "id": "3wgcdwT5hFQH"
      }
    },
    {
      "cell_type": "markdown",
      "source": [
        "Compute: $$\\lim_{x \\to \\infty} \\frac{x^3 + 2x^2}{x^4 - 3x^3}$$\n",
        "\n",
        "**Solution:**\n",
        "\n",
        "**To compute the limit, divide both the numerator and the denominator by \\( x^4 \\) (the highest power of \\( x \\) in the denominator)**:\n",
        "\n",
        "$$\n",
        "\\frac{x^3 + 2x^2}{x^4 - 3x^3} = \\frac{\\frac{x^3}{x^4} + \\frac{2x^2}{x^4}}{\\frac{x^4}{x^4} - \\frac{3x^3}{x^4}}\n",
        "$$\n",
        "\n",
        "**Simplify each term:**\n",
        "$$\n",
        "= \\frac{\\frac{1}{x} + \\frac{2}{x^2}}{1 - \\frac{3}{x}}\n",
        "$$\n",
        "\n",
        "**As $( x \\to \\infty )$, the terms $(\\frac{1}{x})$ and $(\\frac{2}{x^2})$ in the numerator approach 0, and $(\\frac{3}{x})$ in the denominator also approaches 0. Thus, the limit becomes:**\n",
        "\n",
        "$$\n",
        "\\lim_{x \\to \\infty} \\frac{\\frac{1}{x} + \\frac{2}{x^2}}{1 - \\frac{3}{x}} = \\frac{0 + 0}{1 - 0} = 0\n",
        "$$\n",
        "\n",
        "\n"
      ],
      "metadata": {
        "id": "Z8VGlT77pomh"
      }
    },
    {
      "cell_type": "markdown",
      "source": [
        "**Find:**\n",
        "\n",
        "\n",
        "$$ \\lim_{x \\to 0} \\frac{\\sin(3x)}{2x+1} = 0 $$\n",
        "\n",
        "\\begin{align*}\n",
        "\\lim_{x\\to 0} \\frac{\\sin(3x)}{2x+1} &= \\frac{\\sin(3\\cdot 0)}{2\\cdot 0 + 1} \\\\\n",
        "&= \\frac{\\sin(0)}{0+1} \\\\\n",
        "&= \\frac{0}{1} \\\\\n",
        "&= 0\n",
        "\\end{align*}"
      ],
      "metadata": {
        "id": "YYws2omKqjMU"
      }
    },
    {
      "cell_type": "markdown",
      "source": [
        "**Find the asymptotes of the functions:**\n",
        "\n",
        "\\begin{align*}\n",
        "f(x) &= \\frac{x^2 - 1}{x^2 + 1} \\\\\n",
        "g(x) &= \\frac{\\sin(x)}{x^2 + 1}\n",
        "\\end{align*}\n",
        "\n",
        "\n",
        "### 1. For $f(x) = \\frac{x^2 - 1}{x^2 + 1}$\n",
        "\n",
        "#### Vertical Asymptotes:\n",
        "**Vertical asymptotes occur where the denominator $x^2 + 1 = 0$. Solving:**\n",
        "\n",
        "$x^2 + 1 = 0 \\implies x^2 = -1$\n",
        "\n",
        "**Since $x^2 = -1$ has no real solutions, there are no vertical asymptotes for $f(x)$.**\n",
        "\n",
        "#### Horizontal Asymptotes:\n",
        "\n",
        "\n",
        "$lim_{x \\to \\pm\\infty} \\frac{x^2 - 1}{x^2 + 1} = \\lim_{x \\to \\pm\\infty} \\frac{1 - \\frac{1}{x^2}}{1 + \\frac{1}{x^2}} = \\frac{1 - 0}{1 + 0} = 1$\n",
        "**Thus, the horizontal asymptote is:**\n",
        "\\[\n",
        "y = 1\n",
        "\\]\n",
        "\n",
        "### 2. For $g(x) = \\frac{\\sin(x)}{x^2 + 1}$\n",
        "\n",
        "#### Vertical Asymptotes:\n",
        "**The denominator $x^2 + 1$ is always positive for all real $x$. Hence, there are no vertical asymptotes.**\n",
        "\n",
        "#### Horizontal Asymptotes:\n",
        "**To find horizontal asymptotes, calculate the limit of $g(x)$ as $x \\to \\pm\\infty$:**\n",
        "$lim_{x \\to \\pm\\infty} \\frac{\\sin(x)}{x^2 + 1}$\n",
        "**The numerator $\\sin(x)$ oscillates between $-1$ and $1$, while the denominator $x^2 + 1 \\to \\infty$. Therefore:**\n",
        "\n",
        "$lim_{x \\to \\pm\\infty} \\frac{\\sin(x)}{x^2 + 1} = 0$\n",
        "**Thus, the horizontal asymptote is:**\n",
        "\\[\n",
        "y = 0\n",
        "\\]\n",
        "\n",
        "### Summary of Asymptotes:\n",
        "\n",
        "1. For $f(x) = \\frac{x^2 - 1}{x^2 + 1}$:\n",
        "   - **Vertical asymptotes:** None.\n",
        "   - **Horizontal asymptote:** $y = 1$.\n",
        "\n",
        "2. For $g(x) = \\frac{\\sin(x)}{x^2 + 1}$:\n",
        "   - **Vertical asymptotes:** None.\n",
        "   - **Horizontal asymptote:** $y = 0$.\n",
        "\n"
      ],
      "metadata": {
        "id": "3IllRs1VxfoX"
      }
    },
    {
      "cell_type": "code",
      "source": [],
      "metadata": {
        "id": "LqItIWt0g7mb"
      },
      "execution_count": null,
      "outputs": []
    }
  ]
}