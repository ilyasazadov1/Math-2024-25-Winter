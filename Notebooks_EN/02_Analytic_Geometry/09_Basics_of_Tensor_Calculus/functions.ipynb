{
  "nbformat": 4,
  "nbformat_minor": 0,
  "metadata": {
    "colab": {
      "provenance": []
    },
    "kernelspec": {
      "name": "python3",
      "display_name": "Python 3"
    },
    "language_info": {
      "name": "python"
    }
  },
  "cells": [
    {
      "cell_type": "markdown",
      "source": [
        "# Solutions\n",
        "\n",
        "Text...\n",
        "\n",
        "\n",
        "1. Draw in a single Geogebra notebook the following functions:\n",
        "   - $f(x) = x^2$\n",
        "   - $g(x) = \\sqrt{x}$\n",
        "   - $h(x) = \\frac{1}{x}$\n",
        "   - $j(x) = \\sin(x)$\n",
        "\n",
        "Find value of all the above functions at $x = 2$.\n",
        "\n",
        " https://www.geogebra.org/calculator/azeruyqg"
      ],
      "metadata": {
        "id": "3wgcdwT5hFQH"
      }
    },
    {
      "cell_type": "markdown",
      "source": [
        "Let $f(x) = 3x - 1$ and $g(x) = \\sqrt{x}$. Find:\n",
        "   - $f(g(x))$\n",
        "   - $g(f(x))$\n",
        "   - $f(f(x))$\n",
        "   - $g(g(x))$\n",
        "\n",
        "   \n",
        " https://www.geogebra.org/calculator/gzdsntky"
      ],
      "metadata": {
        "id": "9jrdapaj16Yh"
      }
    },
    {
      "cell_type": "markdown",
      "source": [
        "We have function $f=\\{(1,7), (2,9), (3,11)\\}$. Give inverse function $f^{-1}$.\n",
        "\n",
        "\n",
        "\n",
        "\n",
        "\n",
        "$f^{-1} = \\{(7, 1), (9, 2), (11, 3)\\}$"
      ],
      "metadata": {
        "id": "yPCryn8M5Pp3"
      }
    },
    {
      "cell_type": "markdown",
      "source": [
        "We have function $f=\\{(1,7), (2,7), (3,11)\\}$. Give inverse function $f^{-1}$.\n",
        "\n",
        "$f^{-1} = {(7,1),(7,2) ,(11,3)}$\n"
      ],
      "metadata": {
        "id": "oLT7Ee-v6n4j"
      }
    },
    {
      "cell_type": "markdown",
      "source": [
        "We have function $f(x)= x-1$. Give inverse function $f^{-1}$. Show both functions on the same Geogebra notebook.\n",
        "\n",
        "https://www.geogebra.org/calculator/gzdsntky"
      ],
      "metadata": {
        "id": "xGLN_gmI7WnS"
      }
    },
    {
      "cell_type": "markdown",
      "source": [],
      "metadata": {
        "id": "_8yOwF08_iwd"
      }
    },
    {
      "cell_type": "code",
      "source": [],
      "metadata": {
        "id": "g27G_EjGA-ro"
      },
      "execution_count": null,
      "outputs": []
    }
  ]
}