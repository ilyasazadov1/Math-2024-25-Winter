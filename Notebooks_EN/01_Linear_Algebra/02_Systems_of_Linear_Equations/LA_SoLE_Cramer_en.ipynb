{
  "cells": [
    {
      "cell_type": "markdown",
      "metadata": {
        "id": "mMJZ4pRxVMZu"
      },
      "source": [
        "# Cramer's Rule - Examples for 2x2, 3x3, and 4x4 Systems\n",
        "\n",
        "Cramer's rule is used only when the number of equations is equal to the number of unknowns. In other words, the coefficient matrix must be a square matrix.\n",
        "\n",
        "**These formulas are used only** when the **determinant** of the coefficient matrix is **non-zero**. Otherwise, the system of equations is either inconsistent or indeterminate.\n",
        "\n",
        "## 2x2 System of Equations\n",
        "\n",
        "Consider a system of two equations with two unknowns:\n",
        "\n",
        "$$\n",
        "\\begin{cases}\n",
        "a_{11}x_1 + a_{12}x_2 = b_1 \\\\\n",
        "a_{21}x_1 + a_{22}x_2 = b_2\n",
        "\\end{cases}\n",
        "$$\n",
        "\n",
        "Cramer's rule for the unknowns $ x_1 $ and $ x_2 $ is as follows:\n",
        "\n",
        "$$\n",
        "x_1 = \\frac{\\det(A_1)}{\\det(A)} \\quad \\text{and} \\quad x_2 = \\frac{\\det(A_2)}{\\det(A)}\n",
        "$$\n",
        "\n",
        "Where:\n",
        "\n",
        "$$\n",
        "\\det(A) =\n",
        "\\begin{vmatrix}\n",
        "a_{11} & a_{12} \\\\\n",
        "a_{21} & a_{22}\n",
        "\\end{vmatrix}\n",
        "= a_{11}a_{22} - a_{12}a_{21}\n",
        "$$\n",
        "\n",
        "$$\n",
        "\\det(A_1) =\n",
        "\\begin{vmatrix}\n",
        "b_1 & a_{12} \\\\\n",
        "b_2 & a_{22}\n",
        "\\end{vmatrix}\n",
        "= b_1a_{22} - a_{12}b_2\n",
        "$$\n",
        "\n",
        "$$\n",
        "\\det(A_2) =\n",
        "\\begin{vmatrix}\n",
        "a_{11} & b_1 \\\\\n",
        "a_{21} & b_2\n",
        "\\end{vmatrix}\n",
        "= a_{11}b_2 - b_1a_{21}\n",
        "$$\n",
        "\n",
        "## 3x3 System of Equations\n",
        "\n",
        "Consider a system of three equations with three unknowns:\n",
        "\n",
        "$$\n",
        "\\begin{cases}\n",
        "a_{11}x_1 + a_{12}x_2 + a_{13}x_3 = b_1 \\\\\n",
        "a_{21}x_1 + a_{22}x_2 + a_{23}x_3 = b_2 \\\\\n",
        "a_{31}x_1 + a_{32}x_2 + a_{33}x_3 = b_3\n",
        "\\end{cases}\n",
        "$$\n",
        "\n",
        "Cramer's rule for $ x_1 $, $ x_2 $, and $ x_3 $:\n",
        "\n",
        "$$\n",
        "x_1 = \\frac{\\det(A_1)}{\\det(A)} \\quad x_2 = \\frac{\\det(A_2)}{\\det(A)} \\quad x_3 = \\frac{\\det(A_3)}{\\det(A)}\n",
        "$$\n",
        "\n",
        "Where:\n",
        "\n",
        "$$\n",
        "\\det(A) =\n",
        "\\begin{vmatrix}\n",
        "a_{11} & a_{12} & a_{13} \\\\\n",
        "a_{21} & a_{22} & a_{23} \\\\\n",
        "a_{31} & a_{32} & a_{33}\n",
        "\\end{vmatrix}\n",
        "$$\n",
        "\n",
        "$$\n",
        "\\det(A_1) =\n",
        "\\begin{vmatrix}\n",
        "b_1 & a_{12} & a_{13} \\\\\n",
        "b_2 & a_{22} & a_{23} \\\\\n",
        "b_3 & a_{32} & a_{33}\n",
        "\\end{vmatrix}\n",
        "$$\n",
        "\n",
        "$$\n",
        "\\det(A_2) =\n",
        "\\begin{vmatrix}\n",
        "a_{11} & b_1 & a_{13} \\\\\n",
        "a_{21} & b_2 & a_{23} \\\\\n",
        "a_{31} & b_3 & a_{33}\n",
        "\\end{vmatrix}\n",
        "$$\n",
        "\n",
        "$$\n",
        "\\det(A_3) =\n",
        "\\begin{vmatrix}\n",
        "a_{11} & a_{12} & b_1 \\\\\n",
        "a_{21} & a_{22} & b_2 \\\\\n",
        "a_{31} & a_{32} & b_3\n",
        "\\end{vmatrix}\n",
        "$$\n",
        "\n",
        "## 4x4 System of Equations\n",
        "\n",
        "Consider a system of four equations with four unknowns:\n",
        "\n",
        "$$\n",
        "\\begin{cases}\n",
        "a_{11}x_1 + a_{12}x_2 + a_{13}x_3 + a_{14}x_4 = b_1 \\\\\n",
        "a_{21}x_1 + a_{22}x_2 + a_{23}x_3 + a_{24}x_4 = b_2 \\\\\n",
        "a_{31}x_1 + a_{32}x_2 + a_{33}x_3 + a_{34}x_4 = b_3 \\\\\n",
        "a_{41}x_1 + a_{42}x_2 + a_{43}x_3 + a_{44}x_4 = b_4\n",
        "\\end{cases}\n",
        "$$\n",
        "\n",
        "Cramer's rule for $ x_1 $, $ x_2 $, $ x_3 $, and $ x_4 $:\n",
        "\n",
        "$$\n",
        "x_1 = \\frac{\\det(A_1)}{\\det(A)} \\quad x_2 = \\frac{\\det(A_2)}{\\det(A)} \\quad x_3 = \\frac{\\det(A_3)}{\\det(A)} \\quad x_4 = \\frac{\\det(A_4)}{\\det(A)}\n",
        "$$\n",
        "\n",
        "Where:\n",
        "\n",
        "$$\n",
        "\\det(A) =\n",
        "\\begin{vmatrix}\n",
        "a_{11} & a_{12} & a_{13} & a_{14} \\\\\n",
        "a_{21} & a_{22} & a_{23} & a_{24} \\\\\n",
        "a_{31} & a_{32} & a_{33} & a_{34} \\\\\n",
        "a_{41} & a_{42} & a_{43} & a_{44}\n",
        "\\end{vmatrix}\n",
        "$$\n",
        "\n",
        "$$\n",
        "\\det(A_1) =\n",
        "\\begin{vmatrix}\n",
        "b_1 & a_{12} & a_{13} & a_{14} \\\\\n",
        "b_2 & a_{22} & a_{23} & a_{24} \\\\\n",
        "b_3 & a_{32} & a_{33} & a_{34} \\\\\n",
        "b_4 & a_{42} & a_{43} & a_{44}\n",
        "\\end{vmatrix}\n",
        "$$\n",
        "\n",
        "$$\n",
        "\\det(A_2) =\n",
        "\\begin{vmatrix}\n",
        "a_{11} & b_1 & a_{13} & a_{14} \\\\\n",
        "a_{21} & b_2 & a_{23} & a_{24} \\\\\n",
        "a_{31} & b_3 & a_{33} & a_{34} \\\\\n",
        "a_{41} & b_4 & a_{43} & a_{44}\n",
        "\\end{vmatrix}\n",
        "$$\n",
        "\n",
        "$$\n",
        "\\det(A_3) =\n",
        "\\begin{vmatrix}\n",
        "a_{11} & a_{12} & b_1 & a_{14} \\\\\n",
        "a_{21} & a_{22} & b_2 & a_{24} \\\\\n",
        "a_{31} & a_{32} & b_3 & a_{34} \\\\\n",
        "a_{41} & a_{42} & b_4 & a_{44}\n",
        "\\end{vmatrix}\n",
        "$$\n",
        "\n",
        "$$\n",
        "\\det(A_4) =\n",
        "\\begin{vmatrix}\n",
        "a_{11} & a_{12} & a_{13} & b_1 \\\\\n",
        "a_{21} & a_{22} & a_{23} & b_2 \\\\\n",
        "a_{31} & a_{32} & a_{33} & b_3 \\\\\n",
        "a_{41} & a_{42} & a_{43} & b_4\n",
        "\\end{vmatrix}\n",
        "$$\n",
        "\n",
        "## Example"
      ]
    },
    {
      "cell_type": "code",
      "execution_count": null,
      "metadata": {
        "id": "4aclGl8DVMZy"
      },
      "outputs": [],
      "source": [
        "import sympy as sp\n",
        "\n",
        "# Define symbols\n",
        "x, y, z = sp.symbols('x y z')\n",
        "\n",
        "# Define the system of equations\n",
        "eq1 = sp.Eq(2*x + 3*y + z, 1)\n",
        "eq2 = sp.Eq(3*x + 2*y + 2*z, 2)\n",
        "eq3 = sp.Eq(x + y + z, 3)\n",
        "\n",
        "# Coefficient matrix of the system\n",
        "A = sp.Matrix([[2, 3, 1], [3, 2, 2], [1, 1, 1]])\n",
        "# Free terms vector\n",
        "b = sp.Matrix([1, 2, 3])"
      ]
    },
    {
      "cell_type": "code",
      "execution_count": null,
      "metadata": {
        "id": "bUPrKkyJVMZz",
        "outputId": "3842c9a1-d19e-4a87-acae-3663462811ad"
      },
      "outputs": [
        {
          "data": {
            "text/latex": [
              "$\\displaystyle \\left[\\begin{matrix}2 & 3 & 1\\\\3 & 2 & 2\\\\1 & 1 & 1\\end{matrix}\\right]$"
            ],
            "text/plain": [
              "Matrix([\n",
              "[2, 3, 1],\n",
              "[3, 2, 2],\n",
              "[1, 1, 1]])"
            ]
          },
          "execution_count": 2,
          "metadata": {},
          "output_type": "execute_result"
        }
      ],
      "source": [
        "A"
      ]
    },
    {
      "cell_type": "code",
      "execution_count": null,
      "metadata": {
        "id": "_LLPDCjrVMZ0",
        "outputId": "95a2316d-b6cc-4843-978f-60330fb84ff9"
      },
      "outputs": [
        {
          "data": {
            "text/latex": [
              "$\\displaystyle \\left[\\begin{matrix}1\\\\2\\\\3\\end{matrix}\\right]$"
            ],
            "text/plain": [
              "Matrix([\n",
              "[1],\n",
              "[2],\n",
              "[3]])"
            ]
          },
          "execution_count": 3,
          "metadata": {},
          "output_type": "execute_result"
        }
      ],
      "source": [
        "b"
      ]
    },
    {
      "cell_type": "code",
      "execution_count": null,
      "metadata": {
        "id": "T1YFRivvVMZ1",
        "outputId": "2366a2bf-fb99-4969-a540-840a6bf110cb"
      },
      "outputs": [
        {
          "data": {
            "text/latex": [
              "$\\displaystyle \\left[\\begin{matrix}1 & 3 & 1\\\\2 & 2 & 2\\\\3 & 1 & 1\\end{matrix}\\right]$"
            ],
            "text/plain": [
              "Matrix([\n",
              "[1, 3, 1],\n",
              "[2, 2, 2],\n",
              "[3, 1, 1]])"
            ]
          },
          "execution_count": 4,
          "metadata": {},
          "output_type": "execute_result"
        }
      ],
      "source": [
        "# Define matrix A_1\n",
        "A_1 = A.copy() # Copy matrix A\n",
        "A_1[:, 0] = b # Replace the first column of A with vector b\n",
        "A_1 # Check if the replacement was successful"
      ]
    },
    {
      "cell_type": "code",
      "execution_count": null,
      "metadata": {
        "id": "hmjT_BH-VMZ2",
        "outputId": "53840fc4-9180-4545-b5e6-184ff1d4bd04"
      },
      "outputs": [
        {
          "data": {
            "text/latex": [
              "$\\displaystyle -4$"
            ],
            "text/plain": [
              "-4"
            ]
          },
          "execution_count": 5,
          "metadata": {},
          "output_type": "execute_result"
        }
      ],
      "source": [
        "det_A_1 = A_1.det() # Calculate determinant of A_1\n",
        "sol_x = det_A_1 / A.det() # Calculate x_1\n",
        "sol_x # Calculated value of x_1"
      ]
    },
    {
      "cell_type": "code",
      "execution_count": null,
      "metadata": {
        "id": "-QhiDzxjVMZ2",
        "outputId": "62d3b736-004a-4929-9272-821df56764c3"
      },
      "outputs": [
        {
          "data": {
            "text/latex": [
              "$\\displaystyle \\left[\\begin{matrix}2 & 1 & 1\\\\3 & 2 & 2\\\\1 & 3 & 1\\end{matrix}\\right]$"
            ],
            "text/plain": [
              "Matrix([\n",
              "[2, 1, 1],\n",
              "[3, 2, 2],\n",
              "[1, 3, 1]])"
            ]
          },
          "execution_count": 6,
          "metadata": {},
          "output_type": "execute_result"
        }
      ],
      "source": [
        "# Similarly for y\n",
        "A_2 = A.copy()\n",
        "A_2[:, 1] = b\n",
        "A_2 # Check if the replacement was successful"
      ]
    },
    {
      "cell_type": "code",
      "execution_count": null,
      "metadata": {
        "id": "iubOJOGTVMZ3",
        "outputId": "12ea49ab-69ab-44f5-c73e-98493c7d9bae"
      },
      "outputs": [
        {
          "data": {
            "text/latex": [
              "$\\displaystyle 1$"
            ],
            "text/plain": [
              "1"
            ]
          },
          "execution_count": 7,
          "metadata": {},
          "output_type": "execute_result"
        }
      ],
      "source": [
        "det_A_2 = A_2.det()\n",
        "sol_y = det_A_2 / A.det()\n",
        "sol_y"
      ]
    },
    {
      "cell_type": "code",
      "execution_count": null,
      "metadata": {
        "id": "WTGRVtvgVMZ3",
        "outputId": "d94b0c75-11d1-48aa-dda9-a788665e15e0"
      },
      "outputs": [
        {
          "data": {
            "text/latex": [
              "$\\displaystyle 6$"
            ],
            "text/plain": [
              "6"
            ]
          },
          "execution_count": 8,
          "metadata": {},
          "output_type": "execute_result"
        }
      ],
      "source": [
        "# Finally for z\n",
        "A_3 = A.copy()\n",
        "A_3[:, 2] = b\n",
        "det_A_3 = A_3.det()\n",
        "sol_z = det_A_3 / A.det()\n",
        "sol_z"
      ]
    },
    {
      "cell_type": "code",
      "execution_count": null,
      "metadata": {
        "id": "pWXf9ASTVMZ3",
        "outputId": "cf7bae16-c21d-4aad-cf4e-3fc8eb745d76"
      },
      "outputs": [
        {
          "data": {
            "text/plain": [
              "{x: -4, y: 1, z: 6}"
            ]
          },
          "execution_count": 9,
          "metadata": {},
          "output_type": "execute_result"
        }
      ],
      "source": [
        "# Solve the system of equations\n",
        "sp.solve((eq1, eq2, eq3), (x, y, z))"
      ]
    },
    {
      "cell_type": "markdown",
      "metadata": {
        "id": "XxnxVOkUVMZ4"
      },
      "source": [
        "---\n",
        "\n",
        "## Exercises for Students\n",
        "\n",
        "1. Solve the system of equations:\n",
        "   $$\n",
        "   \\begin{cases}\n",
        "   2x_1 - 3x_2 = 7 \\\\\n",
        "   3x_1 + 5x_2 = 2\n",
        "   \\end{cases}\n",
        "   $$\n",
        "\n",
        "2. Solve the system of equations:\n",
        "   $$\n",
        "   \\begin{cases}\n",
        "   2x + y - z = 1 \\\\\n",
        "   x - y + 2z = 4 \\\\\n",
        "   3x - 2z = -1\n",
        "   \\end{cases}\n",
        "   $$\n",
        "\n",
        "3. Solve the system of equations:\n",
        "   $$\n",
        "   \\begin{cases}\n",
        "   x + y + z - t = 2 \\\\\n",
        "   x - z + 2t = 6 \\\\\n",
        "   2x - 3y + t = 4 \\\\\n",
        "   3x + y + 3z - 4t = -2\n",
        "   \\end{cases}\n",
        "   $$\n",
        "\n",
        "4. Why can't the following system of equations be solved using Cramer's rule?\n",
        "$$\n",
        "\\begin{cases}\n",
        "x_1 + 2x_2 + 3x_3 = 3 \\\\\n",
        "4x_1 + 5x_2 + 6x_3 = 2 \\\\\n",
        "7x_1 + 8x_2 + 9x_3 = 1\n",
        "\\end{cases}\n",
        "$$"
      ]
    },
    {
      "cell_type": "code",
      "source": [
        "import sympy as sp\n",
        "\n",
        "\n",
        "x1, x2 = sp.symbols('x1 x2')\n",
        "\n",
        "eq1 = sp.Eq(2*x1 - 3*x2, 7)\n",
        "eq2 = sp.Eq(3*x1 + 5*x2, 2)\n",
        "\n",
        "A = sp.Matrix([[2, -3], [3, 5]])\n",
        "b = sp.Matrix([7, 2])\n",
        "\n",
        "A1 = A.copy()\n",
        "A1[:, 0] = b\n",
        "\n",
        "A2 = A.copy()\n",
        "A2[:, 1] = b\n",
        "\n",
        "det_A1 = A1.det()\n",
        "det_A2 = A2.det()\n",
        "\n",
        "sol_x1 = det_A1 / A.det()\n",
        "sol_x2 = det_A2 / A.det()\n",
        "\n",
        "sol_x1, sol_x2\n",
        "\n"
      ],
      "metadata": {
        "id": "cULPeU4UYC8m",
        "outputId": "a8a246ec-a5a0-41c9-a638-35e626d73dc2",
        "colab": {
          "base_uri": "https://localhost:8080/"
        }
      },
      "execution_count": null,
      "outputs": [
        {
          "data": {
            "text/plain": [
              "(41/19, -17/19)"
            ]
          },
          "execution_count": 1,
          "metadata": {},
          "output_type": "execute_result"
        }
      ]
    },
    {
      "cell_type": "code",
      "source": [
        "import sympy as sp\n",
        "\n",
        "x, y, z = sp.symbols('x, y, z')\n",
        "\n",
        "eq1 = sp.Eq(2*x + y - z, 1)\n",
        "eq2 = sp.Eq(x - y + 2*z, 4)\n",
        "eq3 = sp.Eq(3*x - 2*z, -1)\n",
        "\n",
        "\n",
        "A = sp.Matrix([[2, 1, -1], [1, -1, 2], [3, 0, -2]])\n",
        "\n",
        "\n",
        "b = sp.Matrix([1, 4, -1])\n",
        "\n",
        "\n",
        "\n",
        "\n",
        "\n",
        "A1 = A.copy()\n",
        "A1[:, 0] = b\n",
        "\n",
        "A2 = A.copy()\n",
        "A2[:, 1] = b\n",
        "A3 = A.copy()\n",
        "A3[:, 2] = b\n",
        "\n",
        "\n",
        "det_A1 = A1.det()\n",
        "det_A2 = A2.det()\n",
        "det_A3 = A3.det()\n",
        "\n",
        "\n",
        "\n",
        "\n",
        "x_sol = det_A1 / det_A\n",
        "y_sol = det_A2 / det_A\n",
        "z_sol = det_A3 / det_A\n",
        "\n",
        "\n",
        "x_sol, y_sol, z_sol"
      ],
      "metadata": {
        "id": "Or5otmjMKI7M",
        "outputId": "0a2ffdd4-bdd9-4396-f94b-b107d0a515ec",
        "colab": {
          "base_uri": "https://localhost:8080/"
        }
      },
      "execution_count": 5,
      "outputs": [
        {
          "output_type": "execute_result",
          "data": {
            "text/plain": [
              "(1, 1, 2)"
            ]
          },
          "metadata": {},
          "execution_count": 5
        }
      ]
    },
    {
      "cell_type": "code",
      "source": [
        "import sympy as sp\n",
        "\n",
        "x, y, z, t = sp.symbols('x, y, z, t')\n",
        "\n",
        "eq1 = sp.Eq(x + y + z - t, 2)\n",
        "eq2 = sp.Eq(x - z + 2*t, 6)\n",
        "eq3 = sp.Eq(2*x - 3*y + t, 4)\n",
        "eq4 = sp.Eq(3*x + y + 3*z - 4*t, -2)\n",
        "\n",
        "A = sp.Matrix([[1, 1, 1, -1], [1, 0, -1, 2], [2, -3, 0, 1], [3, 1, 3, -4]])\n",
        "\n",
        "b = sp.Matrix([2, 6, 4, -2])\n",
        "\n",
        "det_A = A.det()\n",
        "\n",
        "A1 = A.copy()\n",
        "A1[:, 0] = b\n",
        "\n",
        "A2 = A.copy()\n",
        "A2[:, 1] = b\n",
        "\n",
        "A3 = A.copy()\n",
        "A3[:, 2] = b\n",
        "\n",
        "A4 = A.copy()\n",
        "A4[:, 3] = b\n",
        "\n",
        "det_A1 = A1.det()\n",
        "det_A2 = A2.det()\n",
        "det_A3 = A3.det()\n",
        "det_A4 = A4.det()\n",
        "\n",
        "x_sol = det_A1 / det_A\n",
        "y_sol = det_A2 / det_A\n",
        "z_sol = det_A3 / det_A\n",
        "t_sol = det_A4 / det_A\n",
        "\n",
        "\n",
        "x_sol, y_sol, z_sol, t_sol"
      ],
      "metadata": {
        "id": "grUFl8ikMKwS",
        "outputId": "c8a2bc17-e453-49be-d386-1f0da54db06f",
        "colab": {
          "base_uri": "https://localhost:8080/"
        }
      },
      "execution_count": 8,
      "outputs": [
        {
          "output_type": "execute_result",
          "data": {
            "text/plain": [
              "(1/2, 1, 13/2, 6)"
            ]
          },
          "metadata": {},
          "execution_count": 8
        }
      ]
    },
    {
      "cell_type": "code",
      "source": [],
      "metadata": {
        "id": "QzgC-RqqMjd_"
      },
      "execution_count": null,
      "outputs": []
    }
  ],
  "metadata": {
    "kernelspec": {
      "display_name": "Python 3",
      "language": "python",
      "name": "python3"
    },
    "language_info": {
      "codemirror_mode": {
        "name": "ipython",
        "version": 3
      },
      "file_extension": ".py",
      "mimetype": "text/x-python",
      "name": "python",
      "nbconvert_exporter": "python",
      "pygments_lexer": "ipython3",
      "version": "3.11.9"
    },
    "colab": {
      "provenance": []
    }
  },
  "nbformat": 4,
  "nbformat_minor": 0
}