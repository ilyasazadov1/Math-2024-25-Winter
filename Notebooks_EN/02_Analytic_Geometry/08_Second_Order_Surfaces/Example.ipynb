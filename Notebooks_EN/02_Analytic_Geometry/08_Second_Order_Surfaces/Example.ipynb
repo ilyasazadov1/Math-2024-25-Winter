{
  "nbformat": 4,
  "nbformat_minor": 0,
  "metadata": {
    "colab": {
      "provenance": []
    },
    "kernelspec": {
      "name": "python3",
      "display_name": "Python 3"
    },
    "language_info": {
      "name": "python"
    }
  },
  "cells": [
    {
      "cell_type": "markdown",
      "source": [
        "# Solutions\n",
        "\n",
        "**Write the equation of a sphere with center at point\n",
        "P\n",
        "=\n",
        "(\n",
        "1\n",
        ",\n",
        "2\n",
        ",\n",
        "3\n",
        ")\n",
        " and radius\n",
        "r\n",
        "=\n",
        "3\n",
        ".**\n",
        "\n",
        "\n",
        "\n",
        "$(x - a)^2 + (y - b)^2 + (z - c)^2 = r^2$\n",
        "\n",
        "$(x - 1)^2 + (y - 2)^2 + (z - 3)^2 = 3^2$\n",
        "\n",
        "$(x - 1)^2 + (y - 2)^2 + (z - 3)^2 = 9$\n"
      ],
      "metadata": {
        "id": "3wgcdwT5hFQH"
      }
    },
    {
      "cell_type": "markdown",
      "source": [
        "**Do the spheres with equations\n",
        "x\n",
        "2\n",
        "+\n",
        "y\n",
        "2\n",
        "+\n",
        "z\n",
        "2\n",
        "=\n",
        "1\n",
        " and\n",
        "x\n",
        "2\n",
        "+\n",
        "y\n",
        "2\n",
        "+\n",
        "z\n",
        "2\n",
        "=\n",
        "2\n",
        " have any common points?**\n",
        "\n",
        " https://www.geogebra.org/calculator/jcc4enhx\n",
        "\n",
        " **GeoGebra returned an empty result, indicating that there is no any common points.**"
      ],
      "metadata": {
        "id": "14S_nCE6X2FH"
      }
    },
    {
      "cell_type": "markdown",
      "source": [
        "**What curve in space is formed by the intersection of the sphere\n",
        "x\n",
        "2\n",
        "+\n",
        "y\n",
        "2\n",
        "+\n",
        "z\n",
        "2\n",
        "=\n",
        "1\n",
        " with the sphere\n",
        "(\n",
        "x\n",
        "−\n",
        "1\n",
        ")\n",
        "2\n",
        "+\n",
        "y\n",
        "2\n",
        "+\n",
        "z\n",
        "2\n",
        "=\n",
        "1\n",
        "? Find the equation of this curve.**\n",
        "\n",
        "$(x² + y² + z²) - ((x - 1)² + y² + z²) = 1 - 1 x² - (x² - 2x + 1) = 0$\n",
        "\n",
        " $2x - 1 = 0$\n",
        "\n",
        "\n",
        " $x = 1/2$ equation of plane\n",
        "\n",
        "\n",
        " $(1/2)² + y² + z² = 1$\n",
        "\n",
        " $1/4 + y² + z² = 1$\n",
        "\n",
        " $y² + z² = 3/4$\n",
        "\n",
        " **equation represents a circle in the plane x = 1/2, centered at (1/2, 0, 0) with a radius of $\\sqrt{(3/4)}$ = $\\sqrt{(3/2)}$.**"
      ],
      "metadata": {
        "id": "E9EF2miJZsV1"
      }
    },
    {
      "cell_type": "markdown",
      "source": [
        "**Write the equation of the tangent plane to the paraboloid\n",
        "z\n",
        "=\n",
        "(\n",
        "x\n",
        "−\n",
        "1\n",
        ")\n",
        "2\n",
        "+\n",
        "y\n",
        "2\n",
        "+\n",
        "1\n",
        " at point\n",
        "P\n",
        "=\n",
        "(\n",
        "1\n",
        ",\n",
        "0\n",
        ",\n",
        "1\n",
        ")\n",
        ".**\n",
        "\n",
        "\n",
        "**Compute partial derivatives:**\n",
        "\n",
        "$\\frac{\\partial f}{\\partial x} = 2(x - 1)$-for X\n",
        "\n",
        "$\\frac{\\partial f}{\\partial y} = 2y$-for Y\n",
        "\n",
        "\n",
        "**Evaluate the partial derivatives at**\n",
        "(\n",
        "x\n",
        ",\n",
        "y\n",
        ")\n",
        "=\n",
        "(\n",
        "1\n",
        ",\n",
        "0\n",
        "):\n",
        "\n",
        "$\\frac{\\partial f}{\\partial x}(1, 0) = 2(1 - 1) = 0$\n",
        "\n",
        "$\\frac{\\partial f}{\\partial y}(1, 0) = 2(0) = 0$\n",
        "\n",
        "**Equation of the tangent plane:**\n",
        "\n",
        "\n",
        "\n",
        "$z - 1 = 0(x - 1) + 0(y - 0)$\n",
        "\n",
        "$z - 1 = 0$\n",
        "\n",
        "\n",
        "$z = 1$"
      ],
      "metadata": {
        "id": "Cr4rD8NcrL4O"
      }
    },
    {
      "cell_type": "code",
      "source": [],
      "metadata": {
        "id": "LqItIWt0g7mb"
      },
      "execution_count": null,
      "outputs": []
    },
    {
      "cell_type": "code",
      "source": [
        "\n"
      ],
      "metadata": {
        "id": "3hDypxZ3shGr"
      },
      "execution_count": null,
      "outputs": []
    }
  ]
}