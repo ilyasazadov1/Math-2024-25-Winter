{
  "nbformat": 4,
  "nbformat_minor": 0,
  "metadata": {
    "colab": {
      "provenance": []
    },
    "kernelspec": {
      "name": "python3",
      "display_name": "Python 3"
    },
    "language_info": {
      "name": "python"
    }
  },
  "cells": [
    {
      "cell_type": "markdown",
      "source": [
        "# Solutions\n",
        "\n",
        "Text..."
      ],
      "metadata": {
        "id": "3wgcdwT5hFQH"
      }
    },
    {
      "cell_type": "markdown",
      "source": [
        ". Calculate:\n",
        "   - $\\displaystyle \\lim_{n \\to \\infty} \\frac{n^2 + 3n}{2 n^2 - 2n}$\n",
        "\n",
        "\n",
        "   $lim (n^2 + 3n) / (2n^2- 2n)$\n",
        "   \n",
        "   $lim [(n^2/n^2) + (3n/n^2)] / [(2n^2/n^2) - (2n/n^2)]$\n",
        "\n",
        "   $lim [1 + (3/n)] / [2 - (2/n)]$\n",
        "\n",
        "   $lim [1 + (3/n)] / [2 - (2/n)] = (1 + 0) / (2 - 0) = 1/2$\n",
        "\n",
        "\n",
        "\n",
        "   - $\\displaystyle \\lim_{n \\to \\infty} \\frac{(2n+3)^3}{n^3-1}$\n",
        "\n",
        "   $(2n + 3)^3 = 8n^3 + 36n^2 + 54n + 27$\n",
        "\n",
        "   $lim (8n^3 + 36n^2 + 54n + 27) / (n^3 - 1)$\n",
        "    \n",
        "    $lim [(8n^3/n^3) + (36n^2/n^3) + (54n/n^3) + (27/n^3)] / [(n^3/n^3) - (1/n^3)]$\n",
        "\n",
        "    $lim [8 + (36/n) + (54/n²) + (27/n³)] / [1 - (1/n³)]$\n",
        "\n",
        "    $lim [8 + (36/n) + (54/n²) + (27/n³)] / [1 - (1/n³)] = (8 + 0 + 0 + 0) :(1 - 0) = 8:1 = 8$"
      ],
      "metadata": {
        "id": "6dYTwcOce3I9"
      }
    },
    {
      "cell_type": "markdown",
      "source": [
        "\n",
        "\n",
        "**Prove using the Squeeze Theorem:** $$\\lim_{n \\to \\infty} \\frac{\\sin(n)}{n}$$\n",
        "\n",
        "**Solution:**\n",
        "\n",
        "**The sine function satisfies the inequality:**\n",
        "$$-1 \\leq \\sin(n) \\leq 1$$\n",
        "\n",
        "**Dividing through by \\( n \\) (where \\( n > 0 \\)):**\n",
        "$$-\\frac{1}{n} \\leq \\frac{\\sin(n)}{n} \\leq \\frac{1}{n}$$\n",
        "\n",
        "**Now, consider the limits of the bounds as \\( n \\to \\infty \\):**\n",
        "$$\\lim_{n \\to \\infty} -\\frac{1}{n} = 0 \\quad \\text{and} \\quad \\lim_{n \\to \\infty} \\frac{1}{n} = 0$$\n",
        "\n",
        "**By the Squeeze Theorem:**\n",
        "$$\\lim_{n \\to \\infty} \\frac{\\sin(n)}{n} = 0$$\n"
      ],
      "metadata": {
        "id": "-gQiP5J2fDN7"
      }
    },
    {
      "cell_type": "markdown",
      "source": [
        "**Find the limit of the sequence:** $$a_n = \\left(1 + \\frac{1}{n}\\right)^n$$\n",
        "\n",
        "**Solution:**\n",
        "\n",
        "**The sequence \\( a_n = \\left(1 + \\frac{1}{n}\\right)^n \\) is a well-known limit that approaches the mathematical constant**\\( e \\) as \\( n \\to \\infty \\).\n",
        "\n",
        "Using the definition of \\( e \\):\n",
        "$$e = \\lim_{n \\to \\infty} \\left(1 + \\frac{1}{n}\\right)^n$$\n",
        "\n",
        "Thus:\n",
        "$$\\lim_{n \\to \\infty} a_n = e$$\n",
        "\n",
        "Therefore, the limit of the sequence is:\n",
        "$${e}$$\n"
      ],
      "metadata": {
        "id": "EoTT5EAli7i_"
      }
    },
    {
      "cell_type": "code",
      "source": [],
      "metadata": {
        "id": "LqItIWt0g7mb"
      },
      "execution_count": null,
      "outputs": []
    }
  ]
}