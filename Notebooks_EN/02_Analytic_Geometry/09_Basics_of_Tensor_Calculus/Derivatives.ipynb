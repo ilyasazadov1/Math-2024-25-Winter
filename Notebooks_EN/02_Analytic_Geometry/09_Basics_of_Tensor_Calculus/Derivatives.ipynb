{
  "nbformat": 4,
  "nbformat_minor": 0,
  "metadata": {
    "colab": {
      "provenance": []
    },
    "kernelspec": {
      "name": "python3",
      "display_name": "Python 3"
    },
    "language_info": {
      "name": "python"
    }
  },
  "cells": [
    {
      "cell_type": "markdown",
      "source": [
        "# Solutions\n",
        "\n",
        "Text..."
      ],
      "metadata": {
        "id": "3wgcdwT5hFQH"
      }
    },
    {
      "cell_type": "markdown",
      "source": [
        "\n",
        "1. $ y(x) = -3x + 3 $  \n",
        "   $y(x) = -3$\n",
        "\n",
        "2.  $y(x) = \\pi x + \\sin(1)$\n",
        "    \n",
        "    $y(x) = \\pi$\n",
        "\n",
        "3. $y(x) = 4 + \\sin(2)$\n",
        "    \n",
        "    $y(x) = 0$\n",
        "\n",
        "\n",
        "4. $y(x) = 2x^3 - 3x^2 + 8x - 9$  \n",
        "   \n",
        "   $y'(x) = 6x^2 - 6x + 8$\n",
        "\n",
        "5. $y(x) = 6x^{1/3}$  \n",
        "  \n",
        "  $y'(x) = 2x^{-2/3}$\n",
        "\n",
        "6. $y(x) = \\sqrt{x}$  \n",
        "   \n",
        "   $y(x) = \\frac{1}{2\\sqrt{x}}$\n",
        "\n",
        "7. $y(x) = \\cos(x) + \\sin(x)$  \n",
        "   \n",
        "   $y(x) = \\sin(x) + \\cos(x)$\n",
        "\n",
        "8.  $y(x) = 2\\sin(x) \\cos(x)$  \n",
        "\n",
        " $y(x) = 2\\cos^2(x) - 2\\sin^2(x)$\n",
        "\n",
        "9. $y(x) = x\\sin(x)$\n",
        "    \n",
        "  $y'(x) = \\sin(x) + x\\cos(x)$\n",
        "\n",
        "10. $y(x) = (x + 1)(x + 1)$  \n",
        "     \n",
        "     $y(x) = 2(x + 1)$\n",
        "\n",
        "11. $y(x) = \\frac{x}{x + 1}$\n",
        "\n",
        "    $y(x) = \\frac{1}{(x + 1)^2}$\n",
        "\n",
        "12. $y(x) = (x + 1)\\exp(x)$  \n",
        "     $y'(x) = (x + 1)\\exp(x) + \\exp(x)$"
      ],
      "metadata": {
        "id": "B_9P-lolQZKg"
      }
    },
    {
      "cell_type": "markdown",
      "source": [
        "### **Prove the following:**\n",
        "\n",
        "$$\n",
        "\\frac{d}{dx}\\left(\\ln(\\sin(x))\\right) = \\cot(x)\n",
        "$$\n",
        "\n",
        "**Proof:**\n",
        "\n",
        "**Start with the derivative of $\\ln(\\sin(x))$:**\n",
        "\n",
        "$$\n",
        "\\frac{d}{dx}\\left(\\ln(\\sin(x))\\right) = \\frac{1}{\\sin(x)} \\cdot \\frac{d}{dx}(\\sin(x))\n",
        "$$\n",
        "\n",
        "**The derivative of $sin(x)$ is $cos(x)$, so:**\n",
        "\n",
        "$$\n",
        "\\frac{d}{dx}\\left(\\ln(\\sin(x))\\right) = \\frac{\\cos(x)}{\\sin(x)}\n",
        "$$\n",
        "\n",
        "**Simplifing the expression:**\n",
        "\n",
        "$$\n",
        "\\frac{\\cos(x)}{\\sin(x)} = \\cot(x)\n",
        "$$\n",
        "\n",
        "**Thus, the derivative is proved:**\n",
        "\n",
        "$$\n",
        "\\frac{d}{dx}\\left(\\ln(\\sin(x))\\right) = \\cot(x)\n",
        "$$\n"
      ],
      "metadata": {
        "id": "BP0CXhu3SxPa"
      }
    },
    {
      "cell_type": "markdown",
      "source": [
        "### **Verify the following:**\n",
        "\n",
        "For $f(x) = \\cos(x)$, verifinga that $f''(x) = -f(x)$.\n",
        "\n",
        "**Solution:**\n",
        "\n",
        "**Start with $f(x) = \\cos(x)$.**\n",
        "\n",
        "1. **First derivative:**\n",
        "\n",
        "$$\n",
        "f'(x) = \\frac{d}{dx}(\\cos(x)) = -\\sin(x)\n",
        "$$\n",
        "\n",
        "2. **Second derivative:**\n",
        "\n",
        "$$\n",
        "f''(x) = \\frac{d}{dx}(-\\sin(x)) = -\\cos(x)\n",
        "$$\n",
        "\n",
        "**Since $f(x) = \\cos(x)$, we observe that:**\n",
        "\n",
        "$$\n",
        "f''(x) = -f(x)\n",
        "$$\n",
        "\n",
        "**Thus, it is verified that $f''(x) = -f(x)$ when  $f(x) = \\cos(x)$**\n"
      ],
      "metadata": {
        "id": "luu7xoMJTvKe"
      }
    },
    {
      "cell_type": "markdown",
      "source": [
        "\n",
        "\n",
        "**1. First Limit:**\n",
        "\\begin{align*}\n",
        "\\lim_{x \\to 0} \\frac{\\sin x}{x}\n",
        "&= \\lim_{x \\to 0} \\frac{\\cos x}{1}= 1\n",
        "\\end{align*}\n",
        "\n",
        " **2. Second Limit:**\n",
        "\\begin{align*}\n",
        "\\lim_{x \\to \\infty} \\frac{\\ln x}{x}\n",
        "&= \\lim_{x \\to \\infty} \\frac{1/x}{1}= 0\n",
        "\\end{align*}\n",
        "\n",
        "% **3. Third Limit:**\n",
        "\\begin{align*}\n",
        "\\lim_{x \\to \\infty} \\frac{\\exp(x)}{x}\n",
        "&= \\lim_{x \\to \\infty} \\frac{\\exp(x)}{1}= \\infty\n",
        "\\end{align*}\n",
        "\n"
      ],
      "metadata": {
        "id": "6oSFn21kWFmc"
      }
    },
    {
      "cell_type": "markdown",
      "source": [
        "\n",
        "**Problem:**\n",
        "\n",
        "**In physics, the position of a particle is given by $x(t) = 3t^2 - 6t + 1$. Find the velocity $v(t) = x'(t)$ and acceleration $a(t) = v'(t) = x''(t)$ of the particle at time $t = 2$.**\n",
        "\n",
        "**Solution:**\n",
        "\n",
        "**1. Velocity:**\n",
        "\n",
        "\\begin{align*}\n",
        "v(t) &= x'(t) && \\text{(Definition of velocity)} \\\\\n",
        "&= \\frac{d}{dt}(3t^2 - 6t + 1) && \\text{(Differentiate position function)} \\\\\n",
        "&= 6t - 6\n",
        "\\end{align*}\n",
        "\n",
        "Therefore, $v(2) = 6(2) - 6 = 12 - 6 = 6$ units per second.\n",
        "\n",
        "**2. Acceleration:**\n",
        "\n",
        "\\begin{align*}\n",
        "a(t) &= v'(t) && \\text{(Definition of acceleration)} \\\\\n",
        "&= \\frac{d}{dt}(6t - 6) && \\text{(Differentiate velocity function)} \\\\\n",
        "&= 6\n",
        "\\end{align*}\n",
        "\n",
        "Therefore, $a(2) = 6$ units per second squared.\n",
        "\n",
        "**In summary:**\n",
        "\n",
        "- Velocity at $t = 2: v(2) = 6$ units per second\n",
        "- Acceleration at $t = 2: a(2) = 6$ units per second squared\n",
        "\n"
      ],
      "metadata": {
        "id": "fpdYw67FXLkg"
      }
    },
    {
      "cell_type": "code",
      "source": [],
      "metadata": {
        "id": "LqItIWt0g7mb"
      },
      "execution_count": null,
      "outputs": []
    }
  ]
}