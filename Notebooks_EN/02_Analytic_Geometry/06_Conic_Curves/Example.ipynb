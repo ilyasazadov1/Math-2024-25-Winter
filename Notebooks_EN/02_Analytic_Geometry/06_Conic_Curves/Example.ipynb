{
  "nbformat": 4,
  "nbformat_minor": 0,
  "metadata": {
    "colab": {
      "provenance": []
    },
    "kernelspec": {
      "name": "python3",
      "display_name": "Python 3"
    },
    "language_info": {
      "name": "python"
    }
  },
  "cells": [
    {
      "cell_type": "markdown",
      "source": [
        "# Line or whatever subject\n",
        "\n",
        "Write notes on your own! In each geometry folder make a separate file. Use ChatGPT to generate notes based on list of topics:\n",
        "\n",
        "\tAnalytical Geometry\n",
        "\n",
        "\tLines\n",
        "\tTypes of line equations in the plane.\n",
        "\tGeneral equation of a line.\n",
        "\tCanonical equation of a line.\n",
        "\tLine equation in intercept form on the coordinate axes.\n",
        "\tLine equation in slope form.\n",
        "\tLine equation passing through a given point in a given direction.\n",
        "\tLine equation passing through two given points.\n",
        "\tRelative positions of lines in the plane.\n",
        "\tIntersection of two lines.\n",
        "\tAngle between two lines.\n",
        "\tConditions for parallelism and perpendicularity of two lines.\n",
        "\n",
        "\tPlanes\n",
        "\tPlanes in space.\n",
        "\tVector equation of a plane.\n",
        "\tGeneral equation of a plane.\n",
        "\tPlane equation passing through three points.\n",
        "\tPlane equation in intercept form on the coordinate axes.\n",
        "\tSpecial cases of plane positioning.\n",
        "\tAngle between two planes.\n",
        "\tConditions for parallelism and perpendicularity of two planes.\n",
        "\tLine in space.\n",
        "\tTypes of line equations in space.\n",
        "\tRelative positions of a line and a plane.\n",
        "\tRelative positions of two lines.\n",
        "\tAngle between a line and a plane.\n",
        "\n",
        "\tSecond-Order Curves\n",
        "\tCanonical equations of the circle, ellipse, hyperbola, and parabola.\n",
        "\tEquations of second-order curves with a shifted center.\n",
        "\tReduction of the general second-order curve equation to canonical form.\n",
        "\n",
        "\tSecond-Order Surfaces\n",
        "\tGeneral equations of the ellipsoid, sphere, and hyperboloid.\n",
        "\tRotational surfaces.\n"
      ],
      "metadata": {
        "id": "SVa9rLOXgzJe"
      }
    },
    {
      "cell_type": "markdown",
      "source": [
        "## Magic formula for ChatGPT\n",
        "\n",
        "**Ask ChatpGPT from OpenAI, Cloude, Full Gemini (don't use Gemini here because it is too small model to handle it):**\n",
        "\n",
        "\n",
        "\n",
        "> Please generate me markdown code academic notes, with plenty of equations (harvard student notes!) for the given list of topics below. As I need it for colab and github make sure you give all equations and math formula using $...$ and $$...$$.\n",
        "\n",
        "List of topics to cover:\n",
        "\n",
        "Types of line equations in the plane.\n",
        "General equation of a line.\n",
        "Canonical equation of a line.\n",
        "Line equation in intercept form on the coordinate axes.\n",
        "Line equation in slope form.\n",
        "Line equation passing through a given point in a given direction.\n",
        "Line equation passing through two given points.\n",
        "Relative positions of lines in the plane.\n",
        "Intersection of two lines.\n",
        "Angle between two lines.\n",
        "Conditions for parallelism and perpendicularity of two lines.\n",
        "\n",
        "\n",
        "\n"
      ],
      "metadata": {
        "id": "5SDlikNRhas0"
      }
    },
    {
      "cell_type": "markdown",
      "source": [],
      "metadata": {
        "id": "YBha9MC0howb"
      }
    },
    {
      "cell_type": "code",
      "execution_count": null,
      "metadata": {
        "colab": {
          "base_uri": "https://localhost:8080/"
        },
        "id": "-IWVfobGgyjY",
        "outputId": "efec93f1-b0ca-47ae-c69b-df9b6f27e33d"
      },
      "outputs": [
        {
          "output_type": "execute_result",
          "data": {
            "text/plain": [
              "5"
            ]
          },
          "metadata": {},
          "execution_count": 1
        }
      ],
      "source": [
        "2+3\n"
      ]
    },
    {
      "cell_type": "markdown",
      "source": [
        "# Exercies copied from github markdowns!\n",
        "\n",
        "(that are no openable in colab!) We like everything in one place, so visit your github directly in browser and just enter edit and copy markdown code."
      ],
      "metadata": {
        "id": "6-kVkPFog8NZ"
      }
    },
    {
      "cell_type": "markdown",
      "source": [
        "# Solutions\n",
        "\n",
        "Text..."
      ],
      "metadata": {
        "id": "3wgcdwT5hFQH"
      }
    },
    {
      "cell_type": "markdown",
      "source": [
        "Find the equation of a circle with center at point\n",
        "A\n",
        "(\n",
        "1\n",
        ",\n",
        "2\n",
        ")\n",
        " and radius\n",
        "r\n",
        "=\n",
        "3\n",
        ".\n",
        "\n",
        "\n",
        "\n",
        "$(x - 1)^2 + (y - 2)^2 = 9$"
      ],
      "metadata": {
        "id": "0wCWdggVqNkz"
      }
    },
    {
      "cell_type": "markdown",
      "source": [
        "Find the equation of a parabola intersecting the\n",
        "O\n",
        "x\n",
        " axis at points\n",
        "x\n",
        "=\n",
        "2\n",
        ",\n",
        "x\n",
        "=\n",
        "4\n",
        ", and passing through point\n",
        "y\n",
        "(\n",
        "3\n",
        ")\n",
        "=\n",
        "1\n",
        ".\n",
        "\n",
        "$y = -(x - 2)(x - 4)$\n",
        "\n",
        "$y = -x^2 + 6x - 8$"
      ],
      "metadata": {
        "id": "Qy3FmsPRqQL4"
      }
    },
    {
      "cell_type": "markdown",
      "source": [
        "Find the center of the ellipse with the equation\n",
        "x\n",
        "2\n",
        "+\n",
        "4\n",
        "y\n",
        "2\n",
        "−\n",
        "4\n",
        "x\n",
        "−\n",
        "16\n",
        "y\n",
        "+\n",
        "16\n",
        "=0\n",
        ".\n",
        "\n",
        "\n",
        "$(x^2 - 4x) + 4(y^2 - 4y) + 16 = 0 \\\\\n",
        "(x^2 - 4x + 4) + 4(y^2 - 4y + 4) + 16 - 4 - 16 = 0 \\\\\n",
        "(x - 2)^2 + 4(y - 2)^2 = 4 \\\\\n",
        "\\frac{(x - 2)^2}{4} + \\frac{(y - 2)^2}{1} = 1$\n",
        "\n",
        "\n",
        "$(h, k) = (2, 2)$\n",
        "\n"
      ],
      "metadata": {
        "id": "VkpKGU9dqZaR"
      }
    },
    {
      "cell_type": "markdown",
      "source": [
        "Find the intersection points of the hyperbola\n",
        "x\n",
        "2\n",
        "−\n",
        "y\n",
        "2\n",
        "=\n",
        "1\n",
        " with the ellipse's line\n",
        "x\n",
        "2\n",
        "+\n",
        "4\n",
        "y\n",
        "2\n",
        "=\n",
        "6\n",
        ".\n",
        "\n",
        "\n",
        "\n",
        "$x^2 - y^2 = 1 \\quad (\\text{ Hyperbola}) \\\\\n",
        "x^2 + 4y^2 = 6 \\quad (\\text{ Ellipse})$\n",
        "\n",
        "\n",
        "$(x^2 + 4y^2) - (x^2 - y^2) = 6 - 1 \\\\\n",
        "5y^2 = 5 \\\\\n",
        "y^2 = 1$\n",
        "\n",
        "\n",
        "$x^2 - 1 = 1 \\\\\n",
        "x^2 = 2$\n",
        "\n",
        "\n",
        "\n",
        "$x = \\pm \\sqrt{2} \\\\\n",
        "y = \\pm 1$"
      ],
      "metadata": {
        "id": "0um0RSxPqm4f"
      }
    },
    {
      "cell_type": "markdown",
      "source": [
        "For the given hyperbola\n",
        "x\n",
        "2\n",
        "−\n",
        "y\n",
        "2\n",
        "=\n",
        "1\n",
        ", find the distance between its branches\n",
        "\n",
        "\n",
        "\n",
        "$\\frac{(x - h)^2}{a^2} - \\frac{(y - k)^2}{b^2} = 1$\n",
        "\n",
        "\n",
        "$\\text{Distance} = |1 - (-1)| = 2$"
      ],
      "metadata": {
        "id": "S9rkiwiMq3kc"
      }
    },
    {
      "cell_type": "code",
      "source": [],
      "metadata": {
        "id": "LqItIWt0g7mb"
      },
      "execution_count": null,
      "outputs": []
    }
  ]
}