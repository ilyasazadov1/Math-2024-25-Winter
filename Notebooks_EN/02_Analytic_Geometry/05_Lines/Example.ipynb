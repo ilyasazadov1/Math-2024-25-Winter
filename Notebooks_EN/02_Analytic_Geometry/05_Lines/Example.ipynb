{
  "nbformat": 4,
  "nbformat_minor": 0,
  "metadata": {
    "colab": {
      "provenance": []
    },
    "kernelspec": {
      "name": "python3",
      "display_name": "Python 3"
    },
    "language_info": {
      "name": "python"
    }
  },
  "cells": [
    {
      "cell_type": "markdown",
      "source": [],
      "metadata": {
        "id": "YBha9MC0howb"
      }
    },
    {
      "cell_type": "markdown",
      "source": [
        "# Solutions\n",
        "\n",
        "Text...\n",
        "\n",
        "\n",
        "**The line passes through points\n",
        "A\n",
        "(\n",
        "1\n",
        ",\n",
        "2\n",
        ")\n",
        " and\n",
        "B\n",
        "(\n",
        "3\n",
        ",\n",
        "4\n",
        ")\n",
        ". Find the equation of the line.**\n",
        "\n",
        " **Finding the Slope (m)**\n",
        "\n",
        "$m = \\frac{y_2 - y_1}{x_2 - x_1} = \\frac{4 - 2}{3 - 1} = \\frac{2}{2} = 1$\n",
        "\n",
        "**Using the Point-Slope Form**\n",
        "\n",
        "$y - y_1 = m(x - x_1)$\n",
        "\n",
        "$y - 2 = 1(x - 1)$\n",
        "\n",
        "**Simplifying the Equation**\n",
        "\n",
        "$y - 2 = x - 1$\n",
        "\n",
        "$y = x + 1$"
      ],
      "metadata": {
        "id": "3wgcdwT5hFQH"
      }
    },
    {
      "cell_type": "markdown",
      "source": [
        "**The line passes through point\n",
        "A\n",
        "(\n",
        "1\n",
        ",\n",
        "2\n",
        ")\n",
        " and is parallel to the line\n",
        "y\n",
        "=\n",
        "2\n",
        "x\n",
        "+\n",
        "3\n",
        ". Find the equation of the line.**\n",
        "\n",
        "\n",
        "\n",
        "\n",
        "**The given line is $y = 2x + 3$.\n",
        "The slope of the given line is $m = 2$.\n",
        "Therefore, the slope of the desired line is also $m = 2$.**\n",
        "\n",
        "\n",
        "\n",
        "\n",
        "\n",
        "\n",
        "**the Point-Slope Form:**\n",
        "\n",
        "$y - y_1 = m(x - x_1)$\n",
        "\n",
        "\n",
        "**Substituting the values:**\n",
        "\n",
        "\n",
        "$y - 2 = 2(x - 1)$\n",
        "\n",
        "\n",
        "\n",
        "\n",
        "**Simplifying the equation**\n",
        "\n",
        "$y - 2 = 2x - 2$\n",
        "\n",
        "$y = 2x$\n",
        "\n",
        "**both these lines are pararrel which means that they will be at the same value**"
      ],
      "metadata": {
        "id": "YOOpAwgi21l7"
      }
    },
    {
      "cell_type": "markdown",
      "source": [
        "\n",
        "**The slope of the given line is $m_1 = 2$.\n",
        "Therefore, the slope of the desired line is $m_2 = -\\frac{1}{m_1} = -\\frac{1}{2}$.**\n",
        "\n",
        "**Using the point-slope form with point A(1, 2) and the slope $m_2 = -\\frac{1}{2}$:**\n",
        "\n",
        "$y - y_1 = m_2(x - x_1)$\n",
        "\n",
        "$y - 2 = -\\frac{1}{2}(x - 1)$\n",
        "\n",
        "**Simplifying the equation:**\n",
        "\n",
        "$y - 2 = -\\frac{1}{2}x + \\frac{1}{2}$\n",
        "\n",
        "$y = -\\frac{1}{2}x + \\frac{5}{2}$\n",
        "\n",
        "**Therefore, the equation of the line is $y = -\\frac{1}{2}x + \\frac{5}{2}$.**"
      ],
      "metadata": {
        "id": "rFT_cRwd3sX3"
      }
    },
    {
      "cell_type": "markdown",
      "source": [
        "**Write the equation of the line passing through point\n",
        "A\n",
        "(\n",
        "1\n",
        ",\n",
        "2\n",
        ")\n",
        " and parallel to the vector\n",
        "v\n",
        "→\n",
        "=\n",
        "[\n",
        "2\n",
        ",\n",
        "3\n",
        "]\n",
        ".**\n",
        "\n",
        "**The vector $\\vec{v} = \\begin{bmatrix} 2 \\\\ 3 \\end{bmatrix}$$\\vec{v} = \\begin{bmatrix} 2 \\\\ 3 \\end{bmatrix}$ is the direction vector of the line.**\n",
        "\n",
        "\n",
        "\n",
        "$t = \\frac{x - 1}{2}$\n",
        "\n",
        "$y = 2 + 3 \\left( \\frac{x - 1}{2} \\right)$\n",
        "\n",
        "$y = \\frac{3}{2}x + \\frac{1}{2}$\n",
        "\n",
        "\n",
        "\n",
        "**The equation of the line**\n",
        "\n",
        "\n",
        "$y = \\frac{3}{2}x + \\frac{1}{2}$\n"
      ],
      "metadata": {
        "id": "VelHhBpL5q2N"
      }
    },
    {
      "cell_type": "markdown",
      "source": [
        "**We have the line y = 2 x + 3 . Find an example of a line perpendicular and parallel to it.**\n",
        "\n",
        "\n",
        "\n",
        "$y = 2x + 3$\n",
        "\n",
        "$y = 2x + 5$\n",
        "\n",
        "$y = -\\frac{1}{2}x + 1$"
      ],
      "metadata": {
        "id": "xZ48UGae7PWV"
      }
    },
    {
      "cell_type": "markdown",
      "source": [
        "**We have the line\n",
        "y\n",
        "=\n",
        "2\n",
        "x\n",
        "+\n",
        "3\n",
        " and point\n",
        "A\n",
        "(\n",
        "1\n",
        ",\n",
        "2\n",
        ")\n",
        ". Find the distance from point\n",
        "A\n",
        " to the line.**\n",
        "\n",
        "\n",
        "\n",
        "**Rewrite the Line Equation in General Form:**\n",
        "\n",
        "**The given line equation is $y = 2x + 3$. We need to rewrite it in the general form $Ax + By + C = 0$:**\n",
        "\n",
        "$$2x - y + 3 = 0$$\n",
        "\n",
        "**Now we can identify $A = 2$ ,$B = -1$, and $C = 3$.**\n",
        "\n",
        "**Apply the Distance Formula:**\n",
        "\n",
        "**Substitute the coordinates of point A(1, 2) and the values of A, B, and C into the distance formula:**\n",
        "\n",
        "$$d = \\frac{|2(1) + (-1)(2) + 3|}{\\sqrt{2^2 + (-1)^2}}$$\n",
        "\n",
        "$$d = \\frac{|2 - 2 + 3|}{\\sqrt{4 + 1}}$$\n",
        "\n",
        "$$d = \\frac{3}{\\sqrt{5}}$$\n",
        "\n",
        "Simplify:\n",
        "\n",
        "**You can rationalize the denominator by multiplying the numerator and denominator by $\\sqrt{5}$:**\n",
        "\n",
        "$$d = \\frac{3}{\\sqrt{5}} \\cdot \\frac{\\sqrt{5}}{\\sqrt{5}} = \\frac{3\\sqrt{5}}{5}$$)**\n",
        "  \n"
      ],
      "metadata": {
        "id": "JFWB5Zj6rUAv"
      }
    },
    {
      "cell_type": "markdown",
      "source": [
        "**The line intersects the coordinate axes at points\n",
        "A\n",
        "(\n",
        "2\n",
        ",\n",
        "0\n",
        ")\n",
        " and\n",
        "B\n",
        "(\n",
        "0\n",
        ",\n",
        "3\n",
        ")\n",
        ". Find the equation of the line.**\n",
        "\n",
        "\n",
        "\n",
        "$\\frac{x}{2} + \\frac{y}{3} = 1$\n",
        "\n",
        "$y = -\\frac{3}{2}x + 3$"
      ],
      "metadata": {
        "id": "7duf-LhHsb6N"
      }
    },
    {
      "cell_type": "markdown",
      "source": [
        "**Calculate the angle between the line y = x + 3 and the O x axis**\n",
        "\n",
        "$m = 1$\n",
        "\n",
        "\n",
        "$\\theta = \\tan(1)$\n",
        "\n",
        "\n",
        "$\\theta = 45^{\\circ} \\$\n",
        "\n"
      ],
      "metadata": {
        "id": "8br4gC2ptyTy"
      }
    },
    {
      "cell_type": "code",
      "source": [],
      "metadata": {
        "id": "LqItIWt0g7mb"
      },
      "execution_count": null,
      "outputs": []
    },
    {
      "cell_type": "markdown",
      "source": [
        "**Provide a vector perpendicular to the line\n",
        "x\n",
        "+\n",
        "y\n",
        "+\n",
        "1\n",
        "=\n",
        "0\n",
        ".**\n",
        "\n",
        "\n",
        "$\\vec{v} = \\begin{pmatrix} 1 \\\\ 1 \\end{pmatrix}$"
      ],
      "metadata": {
        "id": "IiNKVCZEuqW8"
      }
    }
  ]
}