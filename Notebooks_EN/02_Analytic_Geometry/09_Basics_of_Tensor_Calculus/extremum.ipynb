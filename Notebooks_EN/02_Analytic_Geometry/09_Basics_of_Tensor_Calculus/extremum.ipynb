{
  "nbformat": 4,
  "nbformat_minor": 0,
  "metadata": {
    "colab": {
      "provenance": []
    },
    "kernelspec": {
      "name": "python3",
      "display_name": "Python 3"
    },
    "language_info": {
      "name": "python"
    }
  },
  "cells": [
    {
      "cell_type": "markdown",
      "source": [],
      "metadata": {
        "id": "YBha9MC0howb"
      }
    },
    {
      "cell_type": "code",
      "execution_count": null,
      "metadata": {
        "colab": {
          "base_uri": "https://localhost:8080/"
        },
        "id": "-IWVfobGgyjY",
        "outputId": "efec93f1-b0ca-47ae-c69b-df9b6f27e33d"
      },
      "outputs": [
        {
          "output_type": "execute_result",
          "data": {
            "text/plain": [
              "5"
            ]
          },
          "metadata": {},
          "execution_count": 1
        }
      ],
      "source": [
        "2+3\n"
      ]
    },
    {
      "cell_type": "markdown",
      "source": [
        "# Solutions\n",
        "\n",
        "\n",
        "\n",
        "\n",
        "\n",
        "$P(u) = -2u^2 + 50u - 300$\n",
        "\n",
        "To find the number of units $u$ that maximize profit:\n",
        "\n",
        "$P'(u) = \\frac{d}{du}(-2u^2 + 50u - 300) = -4u + 5$\n",
        "\n",
        "Setting $P'(u) = 0$:\n",
        "\n",
        "$-4u + 50 = 0 \\ u = 12.5$\n",
        "\n",
        "\n",
        "The second derivative is:\n",
        "\n",
        "$P(u) = \\frac{d}{du}(-4u + 50) = -4$\n",
        "\n",
        "\n",
        "\n",
        " The profit is maximized when $u = 12.5$ units are sold.\n",
        "\n",
        " https://www.geogebra.org/calculator/grpfuv6g"
      ],
      "metadata": {
        "id": "3wgcdwT5hFQH"
      }
    },
    {
      "cell_type": "markdown",
      "source": [
        "\n",
        "The perimeter is:\n",
        "\n",
        "$2l + 2w = 10$ \\\n",
        "\n",
        "$l + w = 5$\n",
        "\n",
        "\n",
        "Solve for $w$:\n",
        "\n",
        "$w = 5 - l$\n",
        "\n",
        "\n",
        "The area of the rectangle is:\n",
        "\n",
        "$A = l \\cdot w = l(5 - l) = 5l - l^2$\n",
        "\n",
        " Differentiate and Find Critical Points}\n",
        "\n",
        "$A'(l) = \\frac{d}{dl}(5l - l^2) = 5 - 2l$\n",
        "\n",
        "Setting $A'(l) = 0$:\n",
        "\n",
        "$5 - 2l = 0 \\implies l = 2.5$\n",
        "\n",
        "The corresponding width is:\n",
        "\n",
        "$w = 5 - l = 5 - 2.5 = 2.5$\n",
        "\n",
        "Second Derivative Test\n",
        "\n",
        "$A''(l) = \\frac{d}{dl}(-2l + 5) = -2$\n",
        "\n",
        "\n",
        "\n",
        " The largest rectangle has dimensions $l = 2.5$ meters and $w = 2.5^2$ meters\n"
      ],
      "metadata": {
        "id": "uYrrC5KVmhqu"
      }
    },
    {
      "cell_type": "markdown",
      "source": [
        "Question 8:\n",
        "\n",
        "The function is:\n",
        "\n",
        "$f(x) = x^2 + 3x - 5$\n",
        "\n",
        "To find the extremum, differentiate $f(x)$:\n",
        "\n",
        "$f'(x) = \\frac{d}{dx}(x^2 + 3x - 5) = 2x + 3$\n",
        "\n",
        "Setting $f'(x) = 0$:\n",
        "\n",
        "$2x + 3 = 0$\n",
        "\n",
        "$x = -\\frac{3}{2}$\n",
        "\n",
        "Second Derivative\n",
        "\n",
        "$f''(x) = \\frac{d}{dx}(2x + 3) = 2$\n",
        "\n",
        "\n",
        "\n",
        "Minimum Value:\n",
        "\n",
        "$f\\left(-\\frac{3}{2}\\right) = \\left(-\\frac{3}{2}\\right)^2 + 3\\left(-\\frac{3}{2}\\right) - 5 = \\frac{9}{4} - \\frac{9}{2} - 5 = -\\frac{19}{4}$\n",
        "\n",
        " The minimum value of $f(x)$ is $-\\frac{19}{4}$, occurring at $x = -\\frac{3}{2}$.\n",
        "https://www.geogebra.org/calculator/grpfuv6g"
      ],
      "metadata": {
        "id": "qzRTqBJfouch"
      }
    },
    {
      "cell_type": "code",
      "source": [],
      "metadata": {
        "id": "LqItIWt0g7mb"
      },
      "execution_count": null,
      "outputs": []
    }
  ]
}